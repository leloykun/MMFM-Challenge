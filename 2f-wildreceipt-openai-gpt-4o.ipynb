{
 "cells": [
  {
   "cell_type": "markdown",
   "id": "0a603e2a",
   "metadata": {},
   "source": [
    "# WildReceipt with GPT-4o and Tool Use (aka Structured Generation)"
   ]
  },
  {
   "cell_type": "markdown",
   "id": "c46a9b6b",
   "metadata": {},
   "source": [
    "NOTE: NOT ELIGIBLE FOR USE IN THE CHALLENGE"
   ]
  },
  {
   "cell_type": "code",
   "execution_count": 1,
   "id": "26863094-ae01-4324-a0dc-922d1735f713",
   "metadata": {
    "scrolled": true
   },
   "outputs": [],
   "source": [
    "# !pip install -q openai"
   ]
  },
  {
   "cell_type": "code",
   "execution_count": 2,
   "id": "9f6a6e10-6fb4-4675-b4ae-992b51e7f1e9",
   "metadata": {},
   "outputs": [],
   "source": [
    "import os\n",
    "import json\n",
    "\n",
    "import pandas as pd\n",
    "from PIL import Image"
   ]
  },
  {
   "cell_type": "code",
   "execution_count": 15,
   "id": "1361a76c-1633-477d-b14c-8a6350d314db",
   "metadata": {},
   "outputs": [],
   "source": [
    "from openai import OpenAI\n",
    "client = OpenAI(api_key=\"sk-<secret>\")"
   ]
  },
  {
   "cell_type": "code",
   "execution_count": 4,
   "id": "8b38e4b2",
   "metadata": {},
   "outputs": [],
   "source": [
    "from notebooks_shared_utils import (\n",
    "    extract_image_title_from_path,\n",
    "    load_image_and_convert_to_base64,\n",
    ")"
   ]
  },
  {
   "cell_type": "code",
   "execution_count": null,
   "id": "1380920c-e657-47b0-9de0-54e08336d35b",
   "metadata": {},
   "outputs": [],
   "source": []
  },
  {
   "cell_type": "code",
   "execution_count": 5,
   "id": "349600ba",
   "metadata": {},
   "outputs": [
    {
     "name": "stdout",
     "output_type": "stream",
     "text": [
      "data/processed_data/wildreceipt/converted_output_test.json\n"
     ]
    }
   ],
   "source": [
    "dataset_name = \"wildreceipt\"\n",
    "dataset_path = os.path.join(\"data/processed_data\", dataset_name, \"converted_output_test.json\")\n",
    "print(dataset_path)\n",
    "assert os.path.exists(dataset_path)\n",
    "\n",
    "df_data = pd.read_json(dataset_path)"
   ]
  },
  {
   "cell_type": "code",
   "execution_count": 6,
   "id": "43f2107d",
   "metadata": {},
   "outputs": [],
   "source": [
    "OPTIONS_STR = \"\"\"\\\"Store_name_value\\\", \\\"Store_name_key\\\", \\\"Store_addr_value\\\", \\\"Store_addr_key\\\", \\\"Tel_value\\\", \\\"Tel_key\\\", \\\"Date_value\\\", \\\"Date_key\\\", \\\"Time_value\\\", \\\"Time_key\\\", \\\"Prod_item_value\\\", \\\"Prod_item_key\\\", \\\"Prod_quantity_value\\\", \\\"Prod_quantity_key\\\", \\\"Prod_price_value\\\", \\\"Prod_price_key\\\", \\\"Subtotal_value\\\", \\\"Subtotal_key\\\", \\\"Tax_value\\\", \\\"Tax_key\\\", \\\"Tips_value\\\", \\\"Tips_key\\\", \\\"Total_value\\\", \\\"Total_key\\\", \\\"Others\\\"\"\"\"\n",
    "OPTIONS = json.loads(f\"[{OPTIONS_STR}]\")"
   ]
  },
  {
   "cell_type": "code",
   "execution_count": null,
   "id": "ef28d5a0",
   "metadata": {},
   "outputs": [],
   "source": []
  },
  {
   "cell_type": "code",
   "execution_count": 7,
   "id": "96df3592-fc0a-421b-8a03-88e76aa537e7",
   "metadata": {},
   "outputs": [],
   "source": [
    "def build_tool():\n",
    "    return {\n",
    "        \"type\": \"function\",\n",
    "        \"function\": {\n",
    "            \"name\": \"question_and_answer_tool\",\n",
    "            \"description\": \"Question and Answer Tool\",\n",
    "            \"parameters\": {\n",
    "                \"type\": \"object\",\n",
    "                \"properties\": {\n",
    "                    \"reasoning\": {\"type\": \"string\"},\n",
    "                    \"answer\": {\n",
    "                        \"enum\": OPTIONS,\n",
    "                        \"description\": \"Exact answer to the user question.\"\n",
    "                    },\n",
    "                },\n",
    "                \"required\": [\"reasoning\", \"answer\"],\n",
    "            },\n",
    "        }\n",
    "    }"
   ]
  },
  {
   "cell_type": "code",
   "execution_count": 8,
   "id": "95659208-a3c1-43d1-bad2-afe7e08bf11e",
   "metadata": {},
   "outputs": [],
   "source": [
    "SYSTEM_PROMPT = \"You are a question-and-answer tool. You get an image as an input and you must answer the user's question from the data you extract from the image. Output in json format.\""
   ]
  },
  {
   "cell_type": "code",
   "execution_count": 9,
   "id": "c3adc673-89aa-42e0-856a-dc6bcbaced9a",
   "metadata": {},
   "outputs": [],
   "source": [
    "def run_inference(\n",
    "    image_path,\n",
    "    question,\n",
    "    infer_image_title: bool = False,\n",
    "    model=\"gpt-4o-2024-05-13\",\n",
    "    seed=0,\n",
    "):\n",
    "    image_base64 = load_image_and_convert_to_base64(image_path)\n",
    "    question_trimmed = question[len(\"<image>\\n\"):]\n",
    "    if infer_image_title:\n",
    "        title = extract_image_title_from_path(image_path)\n",
    "        print(f\"{title = } | {question_trimmed = }\")\n",
    "    else:\n",
    "        print(f\"{question_trimmed = }\")\n",
    "    tool = build_tool()\n",
    "    response = client.chat.completions.create(\n",
    "        model=model,\n",
    "        messages=[\n",
    "            {\n",
    "                \"role\": \"system\",\n",
    "                \"content\": [\n",
    "                    {\n",
    "                        \"type\": \"text\",\n",
    "                        \"text\": SYSTEM_PROMPT,\n",
    "                    }\n",
    "                ]\n",
    "            },\n",
    "            {\n",
    "                \"role\": \"user\",\n",
    "                \"content\": [\n",
    "                    {\n",
    "                        \"type\": \"image_url\",\n",
    "                        \"image_url\": {\"url\": f\"data:image/png;base64,{image_base64}\"},\n",
    "                    },\n",
    "                    {\n",
    "                        \"type\": \"text\",\n",
    "                        \"text\": (\n",
    "                            f\"This infographic has the title {title}. {question_trimmed}\"\n",
    "                            if infer_image_title\n",
    "                            else question_trimmed\n",
    "                        ),\n",
    "                    }\n",
    "                ]\n",
    "            },\n",
    "        ],\n",
    "        temperature = 1,\n",
    "        # max_tokens=256,\n",
    "        seed=seed,\n",
    "        top_p = 1,\n",
    "        frequency_penalty = 0,\n",
    "        presence_penalty = 0,\n",
    "        tools = [tool],\n",
    "        tool_choice = {\n",
    "            \"type\": \"function\",\n",
    "            \"function\": {\"name\": tool[\"function\"][\"name\"]},\n",
    "        },\n",
    "    )\n",
    "    response_args = response.choices[0].message.tool_calls[0].function.arguments\n",
    "    print(f\"{response_args = }\")\n",
    "    return json.loads(response_args)[\"answer\"]"
   ]
  },
  {
   "cell_type": "code",
   "execution_count": null,
   "id": "2c9d0f95-e0b1-4c12-8d9d-b9c495a594b5",
   "metadata": {},
   "outputs": [],
   "source": []
  },
  {
   "cell_type": "code",
   "execution_count": null,
   "id": "239fd20f",
   "metadata": {},
   "outputs": [],
   "source": [
    "image_path = df_data.iloc[0][\"image\"]\n",
    "print(image_path)\n",
    "image = Image.open(image_path)\n",
    "image"
   ]
  },
  {
   "cell_type": "code",
   "execution_count": null,
   "id": "7554d981",
   "metadata": {},
   "outputs": [],
   "source": [
    "question = df_data.iloc[0][\"conversations\"][0][\"value\"]\n",
    "run_inference(image_path, question)"
   ]
  },
  {
   "cell_type": "code",
   "execution_count": 12,
   "id": "818b75ab-750c-46db-ac23-ea519a95c58d",
   "metadata": {},
   "outputs": [],
   "source": [
    "!mkdir -p inference_results/gpt-4o"
   ]
  },
  {
   "cell_type": "code",
   "execution_count": 13,
   "id": "e2d72941-14b2-4178-8635-68ccb5764afb",
   "metadata": {},
   "outputs": [],
   "source": [
    "failed_idx = set()\n",
    "for idx, row in df_data.iterrows():\n",
    "    id = row[\"id\"]\n",
    "    answer_txt_path = f\"inference_results/gpt-4o/{dataset_name}_{id}.txt\"\n",
    "    if os.path.exists(answer_txt_path):\n",
    "        continue\n",
    "\n",
    "    image_path = row['image']\n",
    "    question = row[\"conversations\"][0][\"value\"]\n",
    "    print(id, idx, image_path)\n",
    "\n",
    "    try:\n",
    "        answer = run_inference(image_path, question)\n",
    "        with open(answer_txt_path, \"w\") as f:\n",
    "            f.write(answer)\n",
    "    except Exception as e:\n",
    "        print(idx, row, e)\n",
    "        failed_idx.add(idx)\n",
    "    finally:\n",
    "        print(\"=========================\")"
   ]
  },
  {
   "cell_type": "code",
   "execution_count": 14,
   "id": "2a704a27-2df0-47d5-ae5e-7735b4484c6e",
   "metadata": {},
   "outputs": [
    {
     "data": {
      "text/plain": [
       "set()"
      ]
     },
     "execution_count": 14,
     "metadata": {},
     "output_type": "execute_result"
    }
   ],
   "source": [
    "failed_idx = set(failed_idx)\n",
    "failed_idx"
   ]
  },
  {
   "cell_type": "code",
   "execution_count": null,
   "id": "acdbbdb0",
   "metadata": {},
   "outputs": [],
   "source": []
  }
 ],
 "metadata": {
  "kernelspec": {
   "display_name": "Python 3 (ipykernel)",
   "language": "python",
   "name": "python3"
  },
  "language_info": {
   "codemirror_mode": {
    "name": "ipython",
    "version": 3
   },
   "file_extension": ".py",
   "mimetype": "text/x-python",
   "name": "python",
   "nbconvert_exporter": "python",
   "pygments_lexer": "ipython3",
   "version": "3.10.14"
  }
 },
 "nbformat": 4,
 "nbformat_minor": 5
}
