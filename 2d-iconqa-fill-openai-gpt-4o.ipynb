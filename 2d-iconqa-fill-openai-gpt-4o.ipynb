{
 "cells": [
  {
   "cell_type": "markdown",
   "id": "0a603e2a",
   "metadata": {},
   "source": [
    "# IconQA Fill-In-The-Blank with GPT-4o and Tool Use (aka Structured Generation)"
   ]
  },
  {
   "cell_type": "markdown",
   "id": "c46a9b6b",
   "metadata": {},
   "source": [
    "NOTE: NOT ELIGIBLE FOR USE IN THE CHALLENGE"
   ]
  },
  {
   "cell_type": "code",
   "execution_count": 31,
   "id": "26863094-ae01-4324-a0dc-922d1735f713",
   "metadata": {
    "scrolled": true
   },
   "outputs": [],
   "source": [
    "# !pip install -q openai"
   ]
  },
  {
   "cell_type": "code",
   "execution_count": 14,
   "id": "9f6a6e10-6fb4-4675-b4ae-992b51e7f1e9",
   "metadata": {},
   "outputs": [],
   "source": [
    "import os\n",
    "import json\n",
    "\n",
    "import pandas as pd\n",
    "from PIL import Image"
   ]
  },
  {
   "cell_type": "code",
   "execution_count": 3,
   "id": "1361a76c-1633-477d-b14c-8a6350d314db",
   "metadata": {},
   "outputs": [],
   "source": [
    "from openai import OpenAI\n",
    "client = OpenAI(api_key=\"sk-<secret>\")"
   ]
  },
  {
   "cell_type": "code",
   "execution_count": 5,
   "id": "8b38e4b2",
   "metadata": {},
   "outputs": [],
   "source": [
    "from notebooks_shared_utils import load_image_and_convert_to_base64"
   ]
  },
  {
   "cell_type": "code",
   "execution_count": null,
   "id": "1380920c-e657-47b0-9de0-54e08336d35b",
   "metadata": {},
   "outputs": [],
   "source": []
  },
  {
   "cell_type": "code",
   "execution_count": 8,
   "id": "96df3592-fc0a-421b-8a03-88e76aa537e7",
   "metadata": {},
   "outputs": [],
   "source": [
    "def build_tool():\n",
    "    return {\n",
    "        \"type\": \"function\",\n",
    "        \"function\": {\n",
    "            \"name\": \"iconqa_qna_tool\",\n",
    "            \"description\": \"IconQA Fill-in-the-blank Tool\",\n",
    "            \"parameters\": {\n",
    "                \"type\": \"object\",\n",
    "                \"properties\": {\n",
    "                    \"reasoning\": {\"type\": \"string\"},\n",
    "                    \"answer\": {\n",
    "                        \"type\": \"string\",\n",
    "                        \"description\": \"Exact answer to the user question.\"\n",
    "                    },\n",
    "                },\n",
    "                \"required\": [\"reasoning\", \"answer\"],\n",
    "            },\n",
    "        }\n",
    "    }"
   ]
  },
  {
   "cell_type": "code",
   "execution_count": 9,
   "id": "95659208-a3c1-43d1-bad2-afe7e08bf11e",
   "metadata": {},
   "outputs": [],
   "source": [
    "SYSTEM_PROMPT = \"You are a question-and-answer tool. You get an image as an input and you must answer the user's question from the data you extract from the image. Output in json format.\""
   ]
  },
  {
   "cell_type": "code",
   "execution_count": 17,
   "id": "c3adc673-89aa-42e0-856a-dc6bcbaced9a",
   "metadata": {},
   "outputs": [],
   "source": [
    "def run_inference(image_path, question, model=\"gpt-4o-2024-05-13\", seed=0):\n",
    "    image_base64 = load_image_and_convert_to_base64(image_path)\n",
    "    question_trimmed = question[len(\"<image>\\n\"):]\n",
    "    print(f\"{question_trimmed = }\")\n",
    "    tool = build_tool()\n",
    "    response = client.chat.completions.create(\n",
    "        model=model,\n",
    "        messages=[\n",
    "            {\n",
    "                \"role\": \"system\",\n",
    "                \"content\": [\n",
    "                    {\n",
    "                        \"type\": \"text\",\n",
    "                        \"text\": SYSTEM_PROMPT,\n",
    "                    }\n",
    "                ]\n",
    "            },\n",
    "            {\n",
    "                \"role\": \"user\",\n",
    "                \"content\": [\n",
    "                    {\n",
    "                        \"type\": \"image_url\",\n",
    "                        \"image_url\": {\"url\": f\"data:image/png;base64,{image_base64}\"},\n",
    "                    },\n",
    "                    {\n",
    "                        \"type\": \"text\",\n",
    "                        \"text\": question_trimmed,\n",
    "                    }\n",
    "                ]\n",
    "            },\n",
    "        ],\n",
    "        temperature = 1,\n",
    "        # max_tokens=256,\n",
    "        seed=seed,\n",
    "        top_p = 1,\n",
    "        frequency_penalty = 0,\n",
    "        presence_penalty = 0,\n",
    "        tools = [tool],\n",
    "        tool_choice = {\n",
    "            \"type\": \"function\",\n",
    "            \"function\": {\"name\": tool[\"function\"][\"name\"]},\n",
    "        },\n",
    "    )\n",
    "    response_args = response.choices[0].message.tool_calls[0].function.arguments\n",
    "    print(f\"{response_args = }\")\n",
    "    return json.loads(response_args)[\"answer\"]"
   ]
  },
  {
   "cell_type": "code",
   "execution_count": null,
   "id": "2c9d0f95-e0b1-4c12-8d9d-b9c495a594b5",
   "metadata": {},
   "outputs": [],
   "source": []
  },
  {
   "cell_type": "code",
   "execution_count": 18,
   "id": "5c314253-ca29-409d-94ee-83e2c252d1f6",
   "metadata": {},
   "outputs": [
    {
     "data": {
      "image/jpeg": "[encoded data removed]",
      "image/png": "[encoded data removed]",
      "text/plain": [
       "<PIL.PngImagePlugin.PngImageFile image mode=RGB size=435x69>"
      ]
     },
     "execution_count": 18,
     "metadata": {},
     "output_type": "execute_result"
    }
   ],
   "source": [
    "image_path = \"data/raw_datasets/iconqa/iconqa_data/iconqa/val/fill_in_blank/20847/image.png\"\n",
    "image = Image.open(image_path)\n",
    "image"
   ]
  },
  {
   "cell_type": "code",
   "execution_count": 19,
   "id": "e3f6a09f-0570-48f8-89d7-f271140d7060",
   "metadata": {
    "scrolled": true
   },
   "outputs": [
    {
     "name": "stdout",
     "output_type": "stream",
     "text": [
      "question_trimmed = 'Represent the icon. Question \"How many fish are there?\" Fill in the empty spaces:'\n",
      "response_args = '{\"reasoning\":\"The image depicts 18 fish icons arranged in a sequence.\",\"answer\":\"18\"}'\n"
     ]
    },
    {
     "data": {
      "text/plain": [
       "'18'"
      ]
     },
     "execution_count": 19,
     "metadata": {},
     "output_type": "execute_result"
    }
   ],
   "source": [
    "question = \"\"\"<image>\\nRepresent the icon. Question \"How many fish are there?\" Fill in the empty spaces:\"\"\"\n",
    "run_inference(image_path, question)"
   ]
  },
  {
   "cell_type": "code",
   "execution_count": null,
   "id": "e538d93d-ac45-4aff-8300-93842565aff3",
   "metadata": {},
   "outputs": [],
   "source": []
  },
  {
   "cell_type": "code",
   "execution_count": 20,
   "id": "e59a7cb6-948e-4b0e-be15-278a40898f47",
   "metadata": {},
   "outputs": [
    {
     "name": "stdout",
     "output_type": "stream",
     "text": [
      "data/processed_data/iconqa_fill_in_blank/converted_output_test.json\n"
     ]
    }
   ],
   "source": [
    "dataset_name = \"iconqa_fill_in_blank\"\n",
    "dataset_path = os.path.join(\"data/processed_data\", dataset_name, \"converted_output_test.json\")\n",
    "print(dataset_path)\n",
    "assert os.path.exists(dataset_path)\n",
    "\n",
    "df_data = pd.read_json(dataset_path)"
   ]
  },
  {
   "cell_type": "code",
   "execution_count": 21,
   "id": "818b75ab-750c-46db-ac23-ea519a95c58d",
   "metadata": {},
   "outputs": [],
   "source": [
    "!mkdir -p inference_results/gpt-4o"
   ]
  },
  {
   "cell_type": "code",
   "execution_count": 29,
   "id": "e2d72941-14b2-4178-8635-68ccb5764afb",
   "metadata": {},
   "outputs": [],
   "source": [
    "failed_idx = set()\n",
    "for idx, row in df_data.iterrows():\n",
    "    id = row[\"id\"]\n",
    "    answer_txt_path = f\"inference_results/gpt-4o/{dataset_name}_{id}.txt\"\n",
    "    if os.path.exists(answer_txt_path):\n",
    "        continue\n",
    "\n",
    "    image_path = row['image']\n",
    "    question = row[\"conversations\"][0][\"value\"]\n",
    "    print(id, idx, image_path)\n",
    "\n",
    "    try:\n",
    "        answer = run_inference(image_path, question)\n",
    "        with open(answer_txt_path, \"w\") as f:\n",
    "            f.write(answer)\n",
    "    except Exception as e:\n",
    "        print(idx, row, e)\n",
    "        failed_idx.add(idx)"
   ]
  },
  {
   "cell_type": "code",
   "execution_count": 30,
   "id": "2a704a27-2df0-47d5-ae5e-7735b4484c6e",
   "metadata": {},
   "outputs": [
    {
     "data": {
      "text/plain": [
       "set()"
      ]
     },
     "execution_count": 30,
     "metadata": {},
     "output_type": "execute_result"
    }
   ],
   "source": [
    "failed_idx = set(failed_idx)\n",
    "failed_idx"
   ]
  },
  {
   "cell_type": "code",
   "execution_count": null,
   "id": "ed5f6846",
   "metadata": {},
   "outputs": [],
   "source": []
  }
 ],
 "metadata": {
  "kernelspec": {
   "display_name": "Python 3 (ipykernel)",
   "language": "python",
   "name": "python3"
  },
  "language_info": {
   "codemirror_mode": {
    "name": "ipython",
    "version": 3
   },
   "file_extension": ".py",
   "mimetype": "text/x-python",
   "name": "python",
   "nbconvert_exporter": "python",
   "pygments_lexer": "ipython3",
   "version": "3.10.14"
  }
 },
 "nbformat": 4,
 "nbformat_minor": 5
}
